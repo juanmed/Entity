{
  "nbformat": 4,
  "nbformat_minor": 0,
  "metadata": {
    "colab": {
      "name": "entity_segmentation_test.ipynb",
      "provenance": [],
      "collapsed_sections": [],
      "authorship_tag": "ABX9TyNINZ+1YD4EfE+n1LLj9xGh",
      "include_colab_link": true
    },
    "kernelspec": {
      "name": "python3",
      "display_name": "Python 3"
    },
    "language_info": {
      "name": "python"
    },
    "accelerator": "GPU"
  },
  "cells": [
    {
      "cell_type": "markdown",
      "metadata": {
        "id": "view-in-github",
        "colab_type": "text"
      },
      "source": [
        "<a href=\"https://colab.research.google.com/github/juanmed/Entity/blob/main/entity_segmentation_test.ipynb\" target=\"_parent\"><img src=\"https://colab.research.google.com/assets/colab-badge.svg\" alt=\"Open In Colab\"/></a>"
      ]
    },
    {
      "cell_type": "code",
      "execution_count": null,
      "metadata": {
        "id": "e3SdWhEv6jJV"
      },
      "outputs": [],
      "source": [
        "!pip install -U torch torchvision\n",
        "!pip install git+https://github.com/facebookresearch/fvcore.git\n",
        "import torch, torchvision\n",
        "torch.__version__"
      ]
    },
    {
      "cell_type": "code",
      "source": [
        "#!git clone https://github.com/facebookresearch/detectron2\n",
        "#!cd detectron2 && git checkout 28174e932c534f841195f02184dc67b941c65a67 \n",
        "!python -m pip install detectron2 -f \\\n",
        "  https://dl.fbaipublicfiles.com/detectron2/wheels/cu102/torch1.10/index.html"
      ],
      "metadata": {
        "id": "pSzuqkIg8XGB"
      },
      "execution_count": null,
      "outputs": []
    },
    {
      "cell_type": "code",
      "source": [
        "!git clone https://github.com/dvlab-research/Entity/"
      ],
      "metadata": {
        "id": "NWdpKfau6tuD"
      },
      "execution_count": null,
      "outputs": []
    },
    {
      "cell_type": "code",
      "source": [
        "!pip install git+https://github.com/cocodataset/panopticapi.git"
      ],
      "metadata": {
        "id": "nhKSZnC3E0s_"
      },
      "execution_count": null,
      "outputs": []
    },
    {
      "cell_type": "code",
      "source": [
        "!pip install timm\n",
        "!wget https://github.com/SwinTransformer/storage/releases/download/v1.0.0/swin_tiny_patch4_window7_224.pth\n",
        "!python ./Entity/Entity/EntitySeg/tools/convert_swin_to_d2.py --source_model ./swin_tiny_patch4_window7_224.pth  --output_model ./swin_tiny_patch4_window7_224_trans.pth"
      ],
      "metadata": {
        "id": "a3s5Nc6LBI25"
      },
      "execution_count": null,
      "outputs": []
    },
    {
      "cell_type": "code",
      "source": [
        "#!wget https://drive.google.com/file/d/1se1un6dZD7Z8n8YVsIdL37IzVFyRWZeM/view?usp=sharing\n",
        "!wget --no-check-certificate 'https://drive.google.com/uc?export=download&id=1se1un6dZD7Z8n8YVsIdL37IzVFyRWZeM' -O 'img1.png'\n",
        "#https://drive.google.com/file/d/12o0H3ah6I7AuecquRce5s_0bRcjqvlw6/view?usp=sharing\n",
        "!wget --no-check-certificate 'https://drive.google.com/uc?export=download&id=12o0H3ah6I7AuecquRce5s_0bRcjqvlw6' -O 'img2.png'\n",
        "#https://drive.google.com/file/d/1Ri4s5qL9aaW4pV4-7_r0L9G1nidDDg6f/view?usp=sharing\n",
        "!wget --no-check-certificate 'https://drive.google.com/uc?export=download&id=1Ri4s5qL9aaW4pV4-7_r0L9G1nidDDg6f' -O 'img3.png'\n",
        "#https://drive.google.com/file/d/1vv6r9yX_77oh3xFR6kXQRz4xkXi2sAg0/view?usp=sharing\n",
        "!wget --no-check-certificate 'https://drive.google.com/uc?export=download&id=1vv6r9yX_77oh3xFR6kXQRz4xkXi2sAg0' -O 'img4.png'\n",
        "#https://drive.google.com/file/d/1ezQE7tSG4W2wVra-pBiPtdMEYKf8cuPf/view?usp=sharing\n",
        "!wget --no-check-certificate 'https://drive.google.com/uc?export=download&id=1ezQE7tSG4W2wVra-pBiPtdMEYKf8cuPf' -O 'img5.png'\n",
        "#https://drive.google.com/file/d/1BS-eHBWb56wObyRoOmLZKj_9G1j6PLPf/view?usp=sharing\n",
        "!wget --no-check-certificate 'https://drive.google.com/uc?export=download&id=1BS-eHBWb56wObyRoOmLZKj_9G1j6PLPf' -O 'img6.png'\n",
        "#https://drive.google.com/file/d/1ztV40KzQLsEYAcGPG-6BK0QutXjYUvT2/view?usp=sharing\n",
        "!wget --no-check-certificate 'https://drive.google.com/uc?export=download&id=1ztV40KzQLsEYAcGPG-6BK0QutXjYUvT2' -O 'img7.png'\n",
        "#https://drive.google.com/file/d/1hp2D8DM-UGxK4OdNr5AJYABi0_UzOuzr/view?usp=sharing\n",
        "!wget --no-check-certificate 'https://drive.google.com/uc?export=download&id=1hp2D8DM-UGxK4OdNr5AJYABi0_UzOuzr' -O 'img8.png'\n",
        "#https://drive.google.com/file/d/1RdmSGXScI_kf1H8p6_OL2EXv2eWSOx3D/view?usp=sharing\n",
        "!wget --no-check-certificate 'https://drive.google.com/uc?export=download&id=1RdmSGXScI_kf1H8p6_OL2EXv2eWSOx3D' -O 'img9.png'\n",
        "#https://drive.google.com/file/d/17O2P5jJ59PKH_0veOgth4Zv7Ifc7sOpb/view?usp=sharing\n",
        "!wget --no-check-certificate 'https://drive.google.com/uc?export=download&id=17O2P5jJ59PKH_0veOgth4Zv7Ifc7sOpb' -O 'img10.png'\n",
        "#https://drive.google.com/file/d/1PW3ql4tsWNnkxLUm-Q-UT5PjzwtniChk/view?usp=sharing\n",
        "!wget --no-check-certificate 'https://drive.google.com/uc?export=download&id=1PW3ql4tsWNnkxLUm-Q-UT5PjzwtniChk' -O 'img11.png'\n",
        "#https://drive.google.com/file/d/16ofeVjs0i31nQeDoGYLgRKvULAolUyvS/view?usp=sharing\n",
        "!wget --no-check-certificate 'https://drive.google.com/uc?export=download&id=16ofeVjs0i31nQeDoGYLgRKvULAolUyvS' -O 'img12.png'\n",
        "#https://drive.google.com/file/d/1UYA4jTLW6au5MPim1o7FHuUyUs124n_n/view?usp=sharing\n",
        "!wget --no-check-certificate 'https://drive.google.com/uc?export=download&id=1UYA4jTLW6au5MPim1o7FHuUyUs124n_n' -O 'img13.png'\n",
        "#https://drive.google.com/file/d/16lG3VEQntrAm4365dZeCM8Tw6g20nRhp/view?usp=sharing\n",
        "!wget --no-check-certificate 'https://drive.google.com/uc?export=download&id=16lG3VEQntrAm4365dZeCM8Tw6g20nRhp' -O 'img14.png'\n",
        "#https://drive.google.com/file/d/1Xy97t1qFEdYkP45FB30QqXcwd3W-xcbR/view?usp=sharing\n",
        "!wget --no-check-certificate 'https://drive.google.com/uc?export=download&id=1Xy97t1qFEdYkP45FB30QqXcwd3W-xcbR' -O 'img15.png'"
      ],
      "metadata": {
        "id": "rVyH9jlwCoyS"
      },
      "execution_count": null,
      "outputs": []
    },
    {
      "cell_type": "code",
      "source": [
        "import gdown\n",
        "#import shutil\n",
        "#R101-DCNv2_3x.pth https://drive.google.com/u/1/uc?id=1bpjZk8svC-WPvsexInXfwgIdj7rLg2gM&export=download\n",
        "#swin_l12_3x.pth https://drive.google.com/file/d/1Z7o1w3NM1MsXsJJyLX9DyCAw88yrzHDz/view\n",
        "#swin_l7_3x_all.pth https://drive.google.com/file/d/1ljAeCFlSh6BG6GM1UtzBiJdKVj1_ztSE/view\n",
        "#mit_b5_1x.pth https://drive.google.com/file/d/14ZcrZ9JbU8_XvCkGvq00xrZt2hioZjGv/view\n",
        "url = 'https://drive.google.com/uc?id=1bpjZk8svC-WPvsexInXfwgIdj7rLg2gM'\n",
        "output = 'R101-DCNv2_3x.pth'\n",
        "gdown.download(url, output, quiet=False)"
      ],
      "metadata": {
        "id": "abrMksoRDO93",
        "colab": {
          "base_uri": "https://localhost:8080/",
          "height": 108
        },
        "outputId": "52653adb-9af3-470c-862e-a2b51aa7a34e"
      },
      "execution_count": 35,
      "outputs": [
        {
          "output_type": "stream",
          "name": "stderr",
          "text": [
            "Downloading...\n",
            "From: https://drive.google.com/uc?id=1bpjZk8svC-WPvsexInXfwgIdj7rLg2gM\n",
            "To: /content/R101-DCNv2_3x.pth\n",
            "100%|██████████| 247M/247M [00:01<00:00, 149MB/s]\n"
          ]
        },
        {
          "output_type": "execute_result",
          "data": {
            "application/vnd.google.colaboratory.intrinsic+json": {
              "type": "string"
            },
            "text/plain": [
              "'R101-DCNv2_3x.pth'"
            ]
          },
          "metadata": {},
          "execution_count": 35
        }
      ]
    },
    {
      "cell_type": "code",
      "source": [
        "%matplotlib inline\n",
        "#!sed 's/cv2.imwrite(out_filename.split(\".\")[0]+\".jpg\",/plt.imsave(out_filename.split(\".\")[0]+\".jpg\",/g' ./Entity/Entity/EntitySeg/demo_result_and_vis.py >> ./Entity/Entity/EntitySeg/demo_result_and_vis6.py\n",
        "#!sed 's/# Copyright/import matplotlib.pyplot as plt #/g' ./Entity/Entity/EntitySeg/demo_result_and_vis6.py >> ./Entity/Entity/EntitySeg/demo_result_and_vis7.py\n",
        "!python3 ./Entity/Entity/EntitySeg/demo_result_and_vis7.py --config-file ./Entity/Entity/EntitySeg/configs/entity_r101_dcnv2_3x.yaml --input ./*.png --output ./data/output MODEL.WEIGHTS ./R101-DCNv2_3x.pth #MODEL.CONDINST.MASK_BRANCH.USE_MASK_RESCORE \"True\""
      ],
      "metadata": {
        "id": "i_jgrYlfB-Iz",
        "colab": {
          "base_uri": "https://localhost:8080/"
        },
        "outputId": "38a35f7c-8051-4f58-a2ae-26aa9025a690"
      },
      "execution_count": null,
      "outputs": [
        {
          "output_type": "stream",
          "name": "stdout",
          "text": [
            "python3: can't open file './Entity/Entity/EntitySeg/demo_result_and_vis7.py': [Errno 2] No such file or directory\n"
          ]
        }
      ]
    },
    {
      "cell_type": "code",
      "source": [
        "# You may need to restart your runtime prior to this, to let your installation take effect\n",
        "# Some basic setup\n",
        "# Setup detectron2 logger\n",
        "import detectron2\n",
        "from detectron2.utils.logger import setup_logger\n",
        "setup_logger()\n",
        "\n",
        "# Copyright (c) Facebook, Inc. and its affiliates. All Rights Reserved\n",
        "import argparse\n",
        "import glob\n",
        "import multiprocessing as mp\n",
        "import os\n",
        "import time\n",
        "import cv2\n",
        "import tqdm\n",
        "import numpy as np\n",
        "import copy\n",
        "\n",
        "from detectron2.config import get_cfg\n",
        "from detectron2.data.detection_utils import read_image\n",
        "from detectron2.utils.logger import setup_logger\n",
        "from detectron2.engine import default_setup\n",
        "\n",
        "from Entity.Entity.EntitySeg.entityseg import *\n",
        "\n",
        "from Entity.Entity.EntitySeg.predictor import VisualizationDemo\n",
        "import pdb\n",
        "import matplotlib.pyplot as plt\n"
      ],
      "metadata": {
        "id": "5qHMUhlQ8MQC"
      },
      "execution_count": 8,
      "outputs": []
    },
    {
      "cell_type": "code",
      "source": [
        "!export PYTORCH_CUDA_ALLOC_CONF=max_split_size_mb:11441"
      ],
      "metadata": {
        "id": "5p0fmt06f9-0"
      },
      "execution_count": 14,
      "outputs": []
    },
    {
      "cell_type": "code",
      "source": [
        "\n",
        "# constants\n",
        "WINDOW_NAME = \"Image Segmentation\"\n",
        "\n",
        "def make_colors():\n",
        "    from detectron2.data.datasets.builtin_meta import COCO_CATEGORIES\n",
        "    colors = []\n",
        "    for cate in COCO_CATEGORIES:\n",
        "        colors.append(cate[\"color\"])\n",
        "    return colors\n",
        "\n",
        "def mask_to_boundary(mask, dilation_ratio=0.0008):\n",
        "\t\"\"\"\n",
        "\tConvert binary mask to boundary mask.\n",
        "\t:param mask (numpy array, uint8): binary mask\n",
        "\t:param dilation_ratio (float): ratio to calculate dilation = dilation_ratio * image_diagonal\n",
        "\t:return: boundary mask (numpy array)\n",
        "\t\"\"\"\n",
        "\th, w = mask.shape\n",
        "\timg_diag = np.sqrt(h ** 2 + w ** 2)\n",
        "\tdilation = int(round(dilation_ratio * img_diag))\n",
        "\tif dilation < 1:\n",
        "\t    dilation = 1\n",
        "\t# Pad image so mask truncated by the image border is also considered as boundary.\n",
        "\tnew_mask = cv2.copyMakeBorder(mask, 1, 1, 1, 1, cv2.BORDER_CONSTANT, value=0)\n",
        "\tkernel = np.ones((3, 3), dtype=np.uint8)\n",
        "\tnew_mask_erode = cv2.erode(new_mask, kernel, iterations=dilation)\n",
        "\tmask_erode = new_mask_erode[1 : h + 1, 1 : w + 1]\n",
        "\t# G_d intersects G in the paper.\n",
        "\treturn mask - mask_erode\n",
        "\n",
        "\n",
        "def setup_cfg(args):\n",
        "    # load config from file and command-line arguments\n",
        "    cfg = get_cfg()\n",
        "    add_entity_config(cfg)\n",
        "    #cfg.merge_from_file(\"./Entity/Entity/EntitySeg/configs/entity_swin_lw7_3x.yaml\")\n",
        "    cfg.merge_from_file(\"./Entity/Entity/EntitySeg/configs/entity_r101_dcnv2_3x.yaml\")\n",
        "    default_setup(cfg,args)\n",
        "    cfg.MODEL.PANOPTIC_FPN.COMBINE.INSTANCES_CONFIDENCE_THRESH = 0.5\n",
        "    #cfg.MODEL.WEIGHTS = \"./swin_l7_3x_all.pth\"\n",
        "    cfg.MODEL.WEIGHTS = \"./R101-DCNv2_3x.pth\"\n",
        "    cfg.freeze()\n",
        "    return cfg\n",
        "\n",
        "mp.set_start_method(\"spawn\", force=True)\n",
        "args = vars(argparse.ArgumentParser())\n",
        "setup_logger(name=\"fvcore\")\n",
        "logger = setup_logger()\n",
        "#logger.info(\"Arguments: \" + str(args))\n",
        "\n",
        "if not os.path.exists(\"./data/output/\"):\n",
        "    os.makedirs(\"./data/output/\")\n",
        "\n",
        "cfg = setup_cfg(args)\n",
        "\n",
        "demo = VisualizationDemo(cfg)\n",
        "colors = make_colors()\n",
        "\n",
        "fig = plt.figure(figsize=(15,15))\n",
        "ax = fig.add_subplot(1,1,1)\n",
        "\n",
        "for path in tqdm.tqdm([\"./img15.png\"], disable=not \"./data/output/\"):\n",
        "    # use PIL, to be consistent with evaluation\n",
        "    img = read_image(path, format=\"RGB\")\n",
        "    h,w,d = img.shape\n",
        "    print(\"\\n   *** shape  ***   :{}\".format(img.shape))\n",
        "    if ((h > 2500) or (w>2500)):\n",
        "      img = cv2.resize(img,None,None,fx=0.75,fy=0.75)\n",
        "    print(\"\\n   *** shape  ***   :{}\".format(img.shape))\n",
        "    start_time = time.time()\n",
        "    data = demo.run_on_image_wo_vis(img)\n",
        "    logger.info(\n",
        "        \"{}: {} in {:.2f}s\".format(\n",
        "            path,\n",
        "            \"detected {} instances\".format(len(data[0])),\n",
        "            time.time() - start_time,\n",
        "        )\n",
        "    )\n",
        "\n",
        "    out_filename = \"./data/output/img15_mit_b5_1x.png\"\n",
        "    ## save inference result, [0] original score by detection head, [1] mask rescoring score, [2] mask_id\n",
        "    ori_scores = data[0]\n",
        "    scores = data[1]\n",
        "    mask_id = data[2]\n",
        "    np.savez(out_filename.split(\".\")[0]+\".npz\", ori_scores=ori_scores, scores=scores, mask_id=mask_id)\n",
        "\n",
        "    ## save visualization\n",
        "    img_for_paste = copy.deepcopy(img)\n",
        "    color_mask     = copy.deepcopy(img)\n",
        "    masks_edge     = np.zeros(img.shape[:2], dtype=np.uint8)\n",
        "    alpha  = 0.4\n",
        "    count  = 0\n",
        "    for index, score in enumerate(scores):\n",
        "        if score <= 0.2:\n",
        "            break\n",
        "        color_mask[mask_id==count] = colors[count]\n",
        "        boundary = mask_to_boundary((mask_id==count).astype(np.uint8))\n",
        "        masks_edge[boundary>0] = 1\n",
        "        count += 1\n",
        "    img_wm = cv2.addWeighted(img_for_paste, alpha, color_mask, 1-alpha, 0)\n",
        "    img_wm[masks_edge==1] = 0\n",
        "    fvis = np.hstack((img, img_wm))\n",
        "    #cv2.imwrite(out_filename,fvis)\n",
        "    ax.imshow(fvis)"
      ],
      "metadata": {
        "id": "C1jPu0OQLDts"
      },
      "execution_count": null,
      "outputs": []
    },
    {
      "cell_type": "code",
      "source": [
        "!nvidia-smi"
      ],
      "metadata": {
        "id": "3S16SUn4XVb9"
      },
      "execution_count": null,
      "outputs": []
    }
  ]
}